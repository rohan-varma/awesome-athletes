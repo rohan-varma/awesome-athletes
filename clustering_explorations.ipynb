{
 "cells": [
  {
   "cell_type": "code",
   "execution_count": 17,
   "metadata": {
    "collapsed": false
   },
   "outputs": [],
   "source": [
    "from sklearn import mixture\n",
    "from sklearn.cluster import KMeans\n",
    "from sklearn.datasets import make_blobs\n",
    "import sklearn.cluster\n",
    "\n",
    "import numpy as np\n",
    "import matplotlib.pyplot as plt\n",
    "\n",
    "fig_size = plt.rcParams[\"figure.figsize\"]\n",
    "fig_size[0] = 12\n",
    "fig_size[1] = 9\n",
    "plt.rcParams[\"figure.figsize\"] = fig_size\n",
    "\n",
    "def fit_samples_gmm(samples, n_components):\n",
    "    gmix = mixture.GMM(n_components=n_components, covariance_type='full')\n",
    "    gmix.fit(samples)\n",
    "    print gmix.means_\n",
    "    print gmix.predict(samples)\n",
    "    colors = ['r' if i==0 else 'g' for i in gmix.predict(samples)]\n",
    "    ax = plt.gca()\n",
    "    ax.scatter(samples[:,0], samples[:,1], alpha=0.8)\n",
    "    plt.show()\n",
    "    \n",
    "def fit_samples_kmeans(samples, n_clusters):\n",
    "    n_samples = 1500\n",
    "    random_state = 150\n",
    "    X, y = make_blobs(n_samples=n_samples, random_state=random_state)\n",
    "    y_pred = KMeans(n_clusters=n_clusters, random_state=random_state).fit_predict(X)\n",
    "    plt.subplot(221)\n",
    "    plt.scatter(X[:, 0], X[:, 1], c=y_pred)\n",
    "    plt.show()"
   ]
  },
  {
   "cell_type": "markdown",
   "metadata": {},
   "source": [
    "### Load the database"
   ]
  },
  {
   "cell_type": "code",
   "execution_count": 18,
   "metadata": {
    "collapsed": false
   },
   "outputs": [],
   "source": [
    "import pandas as pd\n",
    "import pandas.io as sql\n",
    "from db_interactor import DBInteractor"
   ]
  },
  {
   "cell_type": "code",
   "execution_count": 19,
   "metadata": {
    "collapsed": false
   },
   "outputs": [],
   "source": [
    "dbi = DBInteractor()"
   ]
  },
  {
   "cell_type": "code",
   "execution_count": 20,
   "metadata": {
    "collapsed": true
   },
   "outputs": [],
   "source": [
    "dbi.get_data_frame_from_table()"
   ]
  },
  {
   "cell_type": "code",
   "execution_count": 21,
   "metadata": {
    "collapsed": false
   },
   "outputs": [],
   "source": [
    "df = dbi.df\n",
    "df = df.drop(['yearID','stint','stint','teamID','lgId','HBP', 'playerID'], axis=1)\n",
    "#df['playerID'] = df['playerID'].factorize()[0]\n"
   ]
  },
  {
   "cell_type": "code",
   "execution_count": 22,
   "metadata": {
    "collapsed": false
   },
   "outputs": [],
   "source": [
    "sample = df.as_matrix()"
   ]
  },
  {
   "cell_type": "code",
   "execution_count": 23,
   "metadata": {
    "collapsed": false
   },
   "outputs": [
    {
     "data": {
      "text/plain": [
       "16"
      ]
     },
     "execution_count": 23,
     "metadata": {},
     "output_type": "execute_result"
    }
   ],
   "source": [
    "sample.shape[1]"
   ]
  },
  {
   "cell_type": "code",
   "execution_count": null,
   "metadata": {
    "collapsed": false
   },
   "outputs": [
    {
     "name": "stdout",
     "output_type": "stream",
     "text": [
      "[[  2.20394106e+001   4.05916675e+000   2.24705939e-001   5.04936243e-001\n",
      "    6.18894367e-002   7.41461436e-203   1.23265310e-202   1.31448128e-001\n",
      "    7.93964857e-204   7.31459459e-206   1.93776850e-001   1.52834900e+000\n",
      "    6.77724687e-207   2.67670827e-001   5.34901233e-204   5.24041385e-002]\n",
      " [  1.09755191e+002   3.60401778e+002   4.84296545e+001   9.64764873e+001\n",
      "    1.73300097e+001   2.40723545e+000   1.02031126e+001   4.57184345e+001\n",
      "    7.05720016e+000   3.32361696e+000   3.58850344e+001   5.89072650e+001\n",
      "    3.38839967e+000   2.68576841e+000   3.06414504e+000   8.18647948e+000]\n",
      " [  3.01765907e+001   5.68641915e+001   5.35318873e+000   1.15663235e+001\n",
      "    1.97241523e+000   2.17635327e-001   8.16085828e-001   5.02065114e+000\n",
      "    3.67794953e-001   2.64923882e-001   4.13373709e+000   1.39425453e+001\n",
      "    2.02616275e-001   2.01813101e+000   3.63042452e-001   1.21386240e+000]]\n",
      "[0 0 0 ..., 1 1 0]\n"
     ]
    }
   ],
   "source": [
    "fit_samples_gmm(sample,3)"
   ]
  },
  {
   "cell_type": "code",
   "execution_count": 16,
   "metadata": {
    "collapsed": false
   },
   "outputs": [],
   "source": [
    "fit_samples_kmeans(sample, 50)"
   ]
  },
  {
   "cell_type": "code",
   "execution_count": null,
   "metadata": {
    "collapsed": true
   },
   "outputs": [],
   "source": []
  },
  {
   "cell_type": "code",
   "execution_count": null,
   "metadata": {
    "collapsed": true
   },
   "outputs": [],
   "source": []
  }
 ],
 "metadata": {
  "kernelspec": {
   "display_name": "Python 2",
   "language": "python",
   "name": "python2"
  },
  "language_info": {
   "codemirror_mode": {
    "name": "ipython",
    "version": 2
   },
   "file_extension": ".py",
   "mimetype": "text/x-python",
   "name": "python",
   "nbconvert_exporter": "python",
   "pygments_lexer": "ipython2",
   "version": "2.7.10"
  }
 },
 "nbformat": 4,
 "nbformat_minor": 0
}
